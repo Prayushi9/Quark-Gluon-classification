{
  "nbformat": 4,
  "nbformat_minor": 0,
  "metadata": {
    "accelerator": "GPU",
    "colab": {
      "name": "t3_E2E-Regression.ipynb",
      "provenance": [],
      "collapsed_sections": []
    },
    "kernelspec": {
      "display_name": "Python 3",
      "name": "python3"
    },
    "language_info": {
      "name": "python"
    }
  },
  "cells": [
    {
      "cell_type": "code",
      "metadata": {
        "id": "aX6Hk_PcGjGX"
      },
      "source": [
        "import pyarrow.parquet as pq\n",
        "import numpy as np \n",
        "import pandas as pd"
      ],
      "execution_count": null,
      "outputs": []
    },
    {
      "cell_type": "code",
      "metadata": {
        "id": "7YPeYxxnCCzj"
      },
      "source": [
        "parquet_file = pq.ParquetFile('E2E_Regression.parquet.9')"
      ],
      "execution_count": null,
      "outputs": []
    },
    {
      "cell_type": "code",
      "metadata": {
        "id": "nDO3jYnDCC2f"
      },
      "source": [
        "X_train = []\n",
        "for i in range(5139, 6423):\n",
        "  X_train.append(parquet_file.read_row_group(i).column(9))"
      ],
      "execution_count": null,
      "outputs": []
    },
    {
      "cell_type": "code",
      "metadata": {
        "colab": {
          "base_uri": "https://localhost:8080/"
        },
        "id": "mP1n2KaFHLj_",
        "outputId": "bca7a440-8e4d-4011-8eca-275b8733aeb5"
      },
      "source": [
        "X_train = np.asarray(X_train)\n",
        "X_train = np.squeeze(X_train, axis=1)\n",
        "print(X_train.shape)"
      ],
      "execution_count": null,
      "outputs": [
        {
          "output_type": "stream",
          "text": [
            "(1284,)\n"
          ],
          "name": "stdout"
        }
      ]
    },
    {
      "cell_type": "code",
      "metadata": {
        "colab": {
          "base_uri": "https://localhost:8080/"
        },
        "id": "ZciGHI7iHTrd",
        "outputId": "eb94a909-090a-40c8-c001-c02194bc7efd"
      },
      "source": [
        "print(X_train[2][2][124][124])"
      ],
      "execution_count": null,
      "outputs": [
        {
          "output_type": "stream",
          "text": [
            "0.0\n"
          ],
          "name": "stdout"
        }
      ]
    },
    {
      "cell_type": "code",
      "metadata": {
        "id": "GxoQAdHeHTsy"
      },
      "source": [
        "x1 = []\n",
        "for i in range(1284):\n",
        "  for j in range(4):\n",
        "    for k in range(125):\n",
        "      x1.append(X_train[i][j][k][:])"
      ],
      "execution_count": null,
      "outputs": []
    },
    {
      "cell_type": "code",
      "metadata": {
        "colab": {
          "base_uri": "https://localhost:8080/"
        },
        "id": "Ar3BqyZCH4f5",
        "outputId": "dc624712-e13b-4ee6-e2d8-d0f01b2dbab8"
      },
      "source": [
        "x1 = np.asarray(x1)\n",
        "print(x1.shape)\n",
        "print(x1.dtype)\n",
        "print(x1[0].dtype)\n",
        "# print(X_train[0][0][0][0].dtype)"
      ],
      "execution_count": null,
      "outputs": [
        {
          "output_type": "stream",
          "text": [
            "(642000, 125)\n",
            "float64\n",
            "float64\n"
          ],
          "name": "stdout"
        }
      ]
    },
    {
      "cell_type": "code",
      "metadata": {
        "id": "b1Axpk9AH9db"
      },
      "source": [
        "np.ndarray.tofile(x1, 'X_val3.dat')"
      ],
      "execution_count": null,
      "outputs": []
    },
    {
      "cell_type": "code",
      "metadata": {
        "colab": {
          "base_uri": "https://localhost:8080/"
        },
        "id": "N8KWUB2qLp8P",
        "outputId": "aa19235e-a122-4f92-ae63-0ff172c81f9d"
      },
      "source": [
        "parquet_file.read_row_group(0).column(3).to_pandas()"
      ],
      "execution_count": null,
      "outputs": [
        {
          "output_type": "execute_result",
          "data": {
            "text/plain": [
              "0    3.958357\n",
              "Name: am, dtype: float64"
            ]
          },
          "metadata": {
            "tags": []
          },
          "execution_count": 18
        }
      ]
    },
    {
      "cell_type": "code",
      "metadata": {
        "id": "UKzNTwvEIa4K"
      },
      "source": [
        "Y_train = []\n",
        "for j in range(5139, 6423):\n",
        "  Y_train.append(parquet_file.read_row_group(j).column(3))"
      ],
      "execution_count": null,
      "outputs": []
    },
    {
      "cell_type": "code",
      "metadata": {
        "colab": {
          "base_uri": "https://localhost:8080/"
        },
        "id": "XYTKE-05Kgdo",
        "outputId": "a124d71d-60dc-4625-fe46-7fc05a37337d"
      },
      "source": [
        "Y_train=np.asarray(Y_train)\n",
        "Y_train = np.squeeze(Y_train, axis=1)\n",
        "print(Y_train.shape)\n",
        "print(Y_train[0])"
      ],
      "execution_count": null,
      "outputs": [
        {
          "output_type": "stream",
          "text": [
            "(1284,)\n",
            "3.789943218231201\n"
          ],
          "name": "stdout"
        }
      ]
    },
    {
      "cell_type": "code",
      "metadata": {
        "colab": {
          "base_uri": "https://localhost:8080/"
        },
        "id": "qfh-CuaJKgj1",
        "outputId": "0784f82c-9a31-47ee-90d6-e530a1bbbacc"
      },
      "source": [
        "# y=np.asarray(y)\n",
        "# y = np.squeeze(y, axis=1)\n",
        "print(Y_train.shape)\n",
        "print(Y_train[0])\n",
        "print(Y_train.dtype)"
      ],
      "execution_count": null,
      "outputs": [
        {
          "output_type": "stream",
          "text": [
            "(1284,)\n",
            "3.789943218231201\n",
            "float64\n"
          ],
          "name": "stdout"
        }
      ]
    },
    {
      "cell_type": "code",
      "metadata": {
        "id": "OCAAeoCjKoJY"
      },
      "source": [
        "np.ndarray.tofile(Y_train, 'Y_train3.dat')"
      ],
      "execution_count": null,
      "outputs": []
    },
    {
      "cell_type": "code",
      "metadata": {
        "id": "I_ZlvTujKoGa"
      },
      "source": [
        "np.ndarray.tofile(Y_train, 'Y_val3.dat')"
      ],
      "execution_count": null,
      "outputs": []
    },
    {
      "cell_type": "code",
      "metadata": {
        "colab": {
          "base_uri": "https://localhost:8080/"
        },
        "id": "F5zSocu-NgH3",
        "outputId": "8fb552ff-ccc5-4478-a66b-8ed6054ce7a2"
      },
      "source": [
        "X_train=np.fromfile('X_train3.dat', dtype=np.float64)\n",
        "X_train=np.reshape(X_train, (5139, 125, 125, 4))\n",
        "print(X_train.shape)\n",
        "Y_train=np.fromfile('Y_train3.dat', dtype=np.float64)\n",
        "print(Y_train.shape)\n",
        "X_val=np.fromfile('X_val3.dat', dtype=np.float64)\n",
        "X_val=np.reshape(X_val, (1284, 125, 125, 4))\n",
        "print(X_val.shape)\n",
        "Y_val=np.fromfile('Y_val3.dat', dtype=np.float64)\n",
        "print(Y_val.shape)"
      ],
      "execution_count": null,
      "outputs": [
        {
          "output_type": "stream",
          "text": [
            "(5139, 125, 125, 4)\n",
            "(5139,)\n",
            "(1284, 125, 125, 4)\n",
            "(1284,)\n"
          ],
          "name": "stdout"
        }
      ]
    },
    {
      "cell_type": "code",
      "metadata": {
        "id": "XjxAWNCnUtB0"
      },
      "source": [
        "from __future__ import print_function, division\n",
        "\n",
        "# from keras.datasets import mnist\n",
        "from keras.applications.vgg19 import VGG19\n",
        "from keras.layers import BatchNormalization, Activation\n",
        "from keras.layers import Input\n",
        "# from keras.layers.merge import _Merge\n",
        "from keras.layers import Input, Dense, Reshape, Flatten, Dropout\n",
        "from keras.layers import BatchNormalization, Activation, ZeroPadding2D\n",
        "from keras.layers.advanced_activations import LeakyReLU\n",
        "from keras.layers.convolutional import UpSampling2D, Conv2D\n",
        "from keras.models import Sequential, Model\n",
        "from keras.optimizers import RMSprop,Adam,SGD\n",
        "from functools import partial\n",
        "\n",
        "import keras.backend as K\n",
        "from scipy.ndimage import zoom  \n",
        "\n",
        "import matplotlib.pyplot as plt\n",
        "\n",
        "import sys\n",
        "\n",
        "import numpy as np\n",
        "import glob\n",
        "import cv2\n",
        "from keras.layers import Lambda"
      ],
      "execution_count": null,
      "outputs": []
    },
    {
      "cell_type": "code",
      "metadata": {
        "id": "RvlSlj5dU5TU"
      },
      "source": [
        "from __future__ import print_function\n",
        "from __future__ import absolute_import\n",
        "\n",
        "import warnings\n",
        "import numpy as np\n",
        "import tensorflow as tf\n",
        "from keras.models import Model\n",
        "from keras import layers\n",
        "from keras.layers import Activation\n",
        "from keras.layers import Dense\n",
        "from keras.layers import Input\n",
        "from keras.layers import BatchNormalization\n",
        "from keras.layers import Conv2D,UpSampling2D\n",
        "from keras.layers import MaxPooling2D\n",
        "from keras.layers import AveragePooling2D\n",
        "from keras.layers import GlobalAveragePooling2D,Add\n",
        "from keras.layers import GlobalMaxPooling2D\n",
        "from keras.engine.topology import get_source_inputs\n",
        "from keras.utils.layer_utils import convert_all_kernels_in_model\n",
        "from keras.utils.data_utils import get_file\n",
        "from keras import backend as K\n",
        "from keras.applications.imagenet_utils import decode_predictions\n",
        "# from keras_applications.imagenet_utils import _obtain_input_shape\n",
        "from keras.preprocessing import image\n",
        "from keras.applications.vgg19 import preprocess_input\n",
        "from keras.preprocessing.image import load_img\n",
        "from keras.preprocessing.image import img_to_array"
      ],
      "execution_count": null,
      "outputs": []
    },
    {
      "cell_type": "code",
      "metadata": {
        "colab": {
          "base_uri": "https://localhost:8080/"
        },
        "id": "PduwY_ZJOSMX",
        "outputId": "e0c564d5-123a-4a89-8679-821c95be1ed2"
      },
      "source": [
        "ip=Input(shape=(125, 125, 4))\n",
        " \n",
        "x = layers.Conv2D(1024, (3, 3), activation='relu', padding='same', name='block5d_conv4')(ip)\n",
        "x=BatchNormalization(momentum=0.8)(x)\n",
        "        \n",
        "x = layers.Conv2D(512, (3, 3), activation='relu', padding='same', name='block4d_conv4')(x)\n",
        "x=BatchNormalization(momentum=0.8)(x)\n",
        "        \n",
        "x = layers.Conv2D(512, (3, 3), activation='relu', padding='same', name='block3d_conv4')(x)\n",
        "x=BatchNormalization(momentum=0.8)(x)\n",
        "        \n",
        "x = layers.Conv2D(512, (3, 3), activation='relu', padding='same', name='block2d_conv2')(x)\n",
        "x=BatchNormalization(momentum=0.8)(x)\n",
        "        \n",
        "x = layers.Conv2D(254, (3, 3), activation='relu', padding='same', name='block1d_conv2')(x)\n",
        "x=BatchNormalization(momentum=0.8)(x)\n",
        "\n",
        "x=layers.Conv2D(3, (3, 3), activation='relu', padding='same')(x)\n",
        "x=layers.Flatten()(x)\n",
        "out=layers.Dense(1, activation=\"linear\")(x)\n",
        "model=Model(ip,out)\n",
        "\n",
        "print(model.summary())"
      ],
      "execution_count": null,
      "outputs": [
        {
          "output_type": "stream",
          "text": [
            "Model: \"model\"\n",
            "_________________________________________________________________\n",
            "Layer (type)                 Output Shape              Param #   \n",
            "=================================================================\n",
            "input_1 (InputLayer)         [(None, 125, 125, 4)]     0         \n",
            "_________________________________________________________________\n",
            "block5d_conv4 (Conv2D)       (None, 125, 125, 1024)    37888     \n",
            "_________________________________________________________________\n",
            "batch_normalization (BatchNo (None, 125, 125, 1024)    4096      \n",
            "_________________________________________________________________\n",
            "block4d_conv4 (Conv2D)       (None, 125, 125, 512)     4719104   \n",
            "_________________________________________________________________\n",
            "batch_normalization_1 (Batch (None, 125, 125, 512)     2048      \n",
            "_________________________________________________________________\n",
            "block3d_conv4 (Conv2D)       (None, 125, 125, 512)     2359808   \n",
            "_________________________________________________________________\n",
            "batch_normalization_2 (Batch (None, 125, 125, 512)     2048      \n",
            "_________________________________________________________________\n",
            "block2d_conv2 (Conv2D)       (None, 125, 125, 512)     2359808   \n",
            "_________________________________________________________________\n",
            "batch_normalization_3 (Batch (None, 125, 125, 512)     2048      \n",
            "_________________________________________________________________\n",
            "block1d_conv2 (Conv2D)       (None, 125, 125, 254)     1170686   \n",
            "_________________________________________________________________\n",
            "batch_normalization_4 (Batch (None, 125, 125, 254)     1016      \n",
            "_________________________________________________________________\n",
            "conv2d (Conv2D)              (None, 125, 125, 3)       6861      \n",
            "_________________________________________________________________\n",
            "flatten (Flatten)            (None, 46875)             0         \n",
            "_________________________________________________________________\n",
            "dense (Dense)                (None, 1)                 46876     \n",
            "=================================================================\n",
            "Total params: 10,712,287\n",
            "Trainable params: 10,706,659\n",
            "Non-trainable params: 5,628\n",
            "_________________________________________________________________\n",
            "None\n"
          ],
          "name": "stdout"
        }
      ]
    },
    {
      "cell_type": "code",
      "metadata": {
        "id": "2FWEq1QkTFBL"
      },
      "source": [
        "opt = Adam(learning_rate=0.0001)\n",
        "# opt = Adam(lr=1e-3, decay=1e-3 / 200)\n",
        "model.compile(optimizer=opt,loss='mse',metrics=['mape', 'mse', 'mae'])"
      ],
      "execution_count": null,
      "outputs": []
    },
    {
      "cell_type": "code",
      "metadata": {
        "colab": {
          "base_uri": "https://localhost:8080/"
        },
        "id": "K-WkoTVmYNHv",
        "outputId": "7a392097-1df4-426e-8851-70ad51bf8d9e"
      },
      "source": [
        "model.load_weights('t3_30.h5')\n",
        "model.fit(X_train, Y_train, validation_data=(X_val, Y_val), batch_size=32,epochs=30,verbose=1)"
      ],
      "execution_count": null,
      "outputs": [
        {
          "output_type": "stream",
          "text": [
            "Epoch 1/30\n",
            "161/161 [==============================] - 1127s 7s/step - loss: 0.0678 - mape: 4.9094 - mse: 0.0678 - mae: 0.1878 - val_loss: 0.0163 - val_mape: 2.7256 - val_mse: 0.0163 - val_mae: 0.1054\n",
            "Epoch 2/30\n",
            "161/161 [==============================] - 1033s 6s/step - loss: 0.0112 - mape: 2.2370 - mse: 0.0112 - mae: 0.0856 - val_loss: 0.0125 - val_mape: 2.4472 - val_mse: 0.0125 - val_mae: 0.0937\n",
            "Epoch 3/30\n",
            "161/161 [==============================] - 1033s 6s/step - loss: 0.0101 - mape: 2.1115 - mse: 0.0101 - mae: 0.0808 - val_loss: 0.2167 - val_mape: 11.8671 - val_mse: 0.2167 - val_mae: 0.4515\n",
            "Epoch 4/30\n",
            "161/161 [==============================] - 1034s 6s/step - loss: 0.0141 - mape: 2.4865 - mse: 0.0141 - mae: 0.0951 - val_loss: 0.0714 - val_mape: 6.2472 - val_mse: 0.0714 - val_mae: 0.2416\n",
            "Epoch 5/30\n",
            "161/161 [==============================] - 1034s 6s/step - loss: 0.0095 - mape: 2.0589 - mse: 0.0095 - mae: 0.0787 - val_loss: 0.0318 - val_mape: 3.9013 - val_mse: 0.0318 - val_mae: 0.1472\n",
            "Epoch 6/30\n",
            "161/161 [==============================] - 1035s 6s/step - loss: 0.0082 - mape: 1.8791 - mse: 0.0082 - mae: 0.0719 - val_loss: 0.0134 - val_mape: 2.5064 - val_mse: 0.0134 - val_mae: 0.0959\n",
            "Epoch 7/30\n",
            "161/161 [==============================] - 1036s 6s/step - loss: 0.0092 - mape: 2.0050 - mse: 0.0092 - mae: 0.0768 - val_loss: 0.0197 - val_mape: 3.0125 - val_mse: 0.0197 - val_mae: 0.1137\n",
            "Epoch 8/30\n",
            "161/161 [==============================] - 1035s 6s/step - loss: 0.0093 - mape: 2.0459 - mse: 0.0093 - mae: 0.0783 - val_loss: 0.0522 - val_mape: 5.2760 - val_mse: 0.0522 - val_mae: 0.1994\n",
            "Epoch 9/30\n",
            "161/161 [==============================] - 1036s 6s/step - loss: 0.0086 - mape: 1.9663 - mse: 0.0086 - mae: 0.0752 - val_loss: 0.0163 - val_mape: 2.7442 - val_mse: 0.0163 - val_mae: 0.1040\n",
            "Epoch 10/30\n",
            "161/161 [==============================] - 1036s 6s/step - loss: 0.0122 - mape: 2.2460 - mse: 0.0122 - mae: 0.0860 - val_loss: 0.3430 - val_mape: 14.9116 - val_mse: 0.3430 - val_mae: 0.5730\n",
            "Epoch 11/30\n",
            "161/161 [==============================] - 1036s 6s/step - loss: 0.0136 - mape: 2.4796 - mse: 0.0136 - mae: 0.0950 - val_loss: 0.0261 - val_mape: 3.4377 - val_mse: 0.0261 - val_mae: 0.1335\n",
            "Epoch 12/30\n",
            "161/161 [==============================] - 1037s 6s/step - loss: 0.0072 - mape: 1.7611 - mse: 0.0072 - mae: 0.0674 - val_loss: 0.0199 - val_mape: 2.9775 - val_mse: 0.0199 - val_mae: 0.1154\n",
            "Epoch 13/30\n",
            "161/161 [==============================] - 1041s 6s/step - loss: 0.0067 - mape: 1.7184 - mse: 0.0067 - mae: 0.0658 - val_loss: 0.0255 - val_mape: 3.3674 - val_mse: 0.0255 - val_mae: 0.1307\n",
            "Epoch 14/30\n",
            "161/161 [==============================] - 1042s 6s/step - loss: 0.0064 - mape: 1.6625 - mse: 0.0064 - mae: 0.0637 - val_loss: 0.0414 - val_mape: 4.4801 - val_mse: 0.0414 - val_mae: 0.1738\n",
            "Epoch 15/30\n",
            "161/161 [==============================] - 1040s 6s/step - loss: 0.0096 - mape: 2.0606 - mse: 0.0096 - mae: 0.0788 - val_loss: 0.0140 - val_mape: 2.5647 - val_mse: 0.0140 - val_mae: 0.0983\n",
            "Epoch 16/30\n",
            "161/161 [==============================] - 1041s 6s/step - loss: 0.0053 - mape: 1.5226 - mse: 0.0053 - mae: 0.0583 - val_loss: 0.0144 - val_mape: 2.5802 - val_mse: 0.0144 - val_mae: 0.0988\n",
            "Epoch 17/30\n",
            "161/161 [==============================] - 1039s 6s/step - loss: 0.0050 - mape: 1.4513 - mse: 0.0050 - mae: 0.0556 - val_loss: 0.0150 - val_mape: 2.6200 - val_mse: 0.0150 - val_mae: 0.0995\n",
            "Epoch 18/30\n",
            "161/161 [==============================] - 1037s 6s/step - loss: 0.0054 - mape: 1.5301 - mse: 0.0054 - mae: 0.0585 - val_loss: 0.0156 - val_mape: 2.6832 - val_mse: 0.0156 - val_mae: 0.1032\n",
            "Epoch 19/30\n",
            "161/161 [==============================] - 1037s 6s/step - loss: 0.0046 - mape: 1.4218 - mse: 0.0046 - mae: 0.0545 - val_loss: 0.0154 - val_mape: 2.6599 - val_mse: 0.0154 - val_mae: 0.1021\n",
            "Epoch 20/30\n",
            "161/161 [==============================] - 1038s 6s/step - loss: 0.0051 - mape: 1.4840 - mse: 0.0051 - mae: 0.0569 - val_loss: 0.0143 - val_mape: 2.5751 - val_mse: 0.0143 - val_mae: 0.0988\n",
            "Epoch 21/30\n",
            "161/161 [==============================] - 1036s 6s/step - loss: 0.0063 - mape: 1.6850 - mse: 0.0063 - mae: 0.0645 - val_loss: 0.0142 - val_mape: 2.5575 - val_mse: 0.0142 - val_mae: 0.0984\n",
            "Epoch 22/30\n",
            "161/161 [==============================] - 1038s 6s/step - loss: 0.0051 - mape: 1.4886 - mse: 0.0051 - mae: 0.0570 - val_loss: 0.0146 - val_mape: 2.5905 - val_mse: 0.0146 - val_mae: 0.0994\n",
            "Epoch 23/30\n",
            "161/161 [==============================] - 1039s 6s/step - loss: 0.0053 - mape: 1.5176 - mse: 0.0053 - mae: 0.0581 - val_loss: 0.0235 - val_mape: 3.1963 - val_mse: 0.0235 - val_mae: 0.1239\n",
            "Epoch 24/30\n",
            "161/161 [==============================] - 1039s 6s/step - loss: 0.0051 - mape: 1.4762 - mse: 0.0051 - mae: 0.0565 - val_loss: 0.0188 - val_mape: 2.9055 - val_mse: 0.0188 - val_mae: 0.1124\n",
            "Epoch 25/30\n",
            "161/161 [==============================] - 1037s 6s/step - loss: 0.0039 - mape: 1.3064 - mse: 0.0039 - mae: 0.0500 - val_loss: 0.0165 - val_mape: 2.7411 - val_mse: 0.0165 - val_mae: 0.1057\n",
            "Epoch 26/30\n",
            "161/161 [==============================] - 1036s 6s/step - loss: 0.0043 - mape: 1.3716 - mse: 0.0043 - mae: 0.0525 - val_loss: 0.0143 - val_mape: 2.5967 - val_mse: 0.0143 - val_mae: 0.0990\n",
            "Epoch 27/30\n",
            "161/161 [==============================] - 1037s 6s/step - loss: 0.0130 - mape: 2.3086 - mse: 0.0130 - mae: 0.0883 - val_loss: 0.0412 - val_mape: 4.4545 - val_mse: 0.0412 - val_mae: 0.1728\n",
            "Epoch 28/30\n",
            "161/161 [==============================] - 1034s 6s/step - loss: 0.0117 - mape: 2.2589 - mse: 0.0117 - mae: 0.0865 - val_loss: 0.0298 - val_mape: 3.6723 - val_mse: 0.0298 - val_mae: 0.1426\n",
            "Epoch 29/30\n",
            "161/161 [==============================] - 1034s 6s/step - loss: 0.0098 - mape: 2.0359 - mse: 0.0098 - mae: 0.0779 - val_loss: 0.0182 - val_mape: 2.8458 - val_mse: 0.0182 - val_mae: 0.1102\n",
            "Epoch 30/30\n",
            "161/161 [==============================] - 1034s 6s/step - loss: 0.0049 - mape: 1.4753 - mse: 0.0049 - mae: 0.0565 - val_loss: 0.0476 - val_mape: 4.8555 - val_mse: 0.0476 - val_mae: 0.1882\n"
          ],
          "name": "stdout"
        },
        {
          "output_type": "execute_result",
          "data": {
            "text/plain": [
              "<tensorflow.python.keras.callbacks.History at 0x7f936006bf90>"
            ]
          },
          "metadata": {
            "tags": []
          },
          "execution_count": 12
        }
      ]
    },
    {
      "cell_type": "code",
      "metadata": {
        "colab": {
          "base_uri": "https://localhost:8080/"
        },
        "id": "AHP61GDhdsEn",
        "outputId": "835c00d4-5e23-4cb1-ea0b-ecb73535a6a6"
      },
      "source": [
        "model.load_weights('t3_60.h5')\n",
        "model.fit(X_train, Y_train, validation_data=(X_val, Y_val), batch_size=32,epochs=30,verbose=1)"
      ],
      "execution_count": null,
      "outputs": [
        {
          "output_type": "stream",
          "text": [
            "Epoch 1/30\n",
            "161/161 [==============================] - 1121s 7s/step - loss: 0.0090 - mape: 1.9860 - mse: 0.0090 - mae: 0.0760 - val_loss: 0.0249 - val_mape: 3.3310 - val_mse: 0.0249 - val_mae: 0.1292\n",
            "Epoch 2/30\n",
            "161/161 [==============================] - 1026s 6s/step - loss: 0.0052 - mape: 1.5176 - mse: 0.0052 - mae: 0.0581 - val_loss: 0.0501 - val_mape: 5.0102 - val_mse: 0.0501 - val_mae: 0.1941\n",
            "Epoch 3/30\n",
            "161/161 [==============================] - 1027s 6s/step - loss: 0.0064 - mape: 1.6606 - mse: 0.0064 - mae: 0.0635 - val_loss: 0.0148 - val_mape: 2.6262 - val_mse: 0.0148 - val_mae: 0.1004\n",
            "Epoch 4/30\n",
            "161/161 [==============================] - 1027s 6s/step - loss: 0.0046 - mape: 1.4081 - mse: 0.0046 - mae: 0.0539 - val_loss: 0.0492 - val_mape: 4.9384 - val_mse: 0.0492 - val_mae: 0.1913\n",
            "Epoch 5/30\n",
            "161/161 [==============================] - 1029s 6s/step - loss: 0.0057 - mape: 1.5680 - mse: 0.0057 - mae: 0.0600 - val_loss: 0.0978 - val_mape: 7.4970 - val_mse: 0.0978 - val_mae: 0.2894\n",
            "Epoch 6/30\n",
            "161/161 [==============================] - 1028s 6s/step - loss: 0.0052 - mape: 1.5088 - mse: 0.0052 - mae: 0.0578 - val_loss: 0.0150 - val_mape: 2.6590 - val_mse: 0.0150 - val_mae: 0.1011\n",
            "Epoch 7/30\n",
            "161/161 [==============================] - 1026s 6s/step - loss: 0.0028 - mape: 1.1028 - mse: 0.0028 - mae: 0.0422 - val_loss: 0.0215 - val_mape: 3.0743 - val_mse: 0.0215 - val_mae: 0.1190\n",
            "Epoch 8/30\n",
            "161/161 [==============================] - 1027s 6s/step - loss: 0.0043 - mape: 1.3742 - mse: 0.0043 - mae: 0.0526 - val_loss: 0.0172 - val_mape: 2.7853 - val_mse: 0.0172 - val_mae: 0.1074\n",
            "Epoch 9/30\n",
            "161/161 [==============================] - 1025s 6s/step - loss: 0.0051 - mape: 1.4719 - mse: 0.0051 - mae: 0.0563 - val_loss: 0.0140 - val_mape: 2.5800 - val_mse: 0.0140 - val_mae: 0.0987\n",
            "Epoch 10/30\n",
            "161/161 [==============================] - 1024s 6s/step - loss: 0.0058 - mape: 1.5500 - mse: 0.0058 - mae: 0.0593 - val_loss: 0.0222 - val_mape: 3.2016 - val_mse: 0.0222 - val_mae: 0.1209\n",
            "Epoch 11/30\n",
            "161/161 [==============================] - 1025s 6s/step - loss: 0.0060 - mape: 1.6161 - mse: 0.0060 - mae: 0.0619 - val_loss: 0.0222 - val_mape: 3.1195 - val_mse: 0.0222 - val_mae: 0.1208\n",
            "Epoch 12/30\n",
            "161/161 [==============================] - 1025s 6s/step - loss: 0.0047 - mape: 1.4266 - mse: 0.0047 - mae: 0.0546 - val_loss: 0.0156 - val_mape: 2.6664 - val_mse: 0.0156 - val_mae: 0.1028\n",
            "Epoch 13/30\n",
            "161/161 [==============================] - 1024s 6s/step - loss: 0.0030 - mape: 1.1286 - mse: 0.0030 - mae: 0.0432 - val_loss: 0.0141 - val_mape: 2.5818 - val_mse: 0.0141 - val_mae: 0.0987\n",
            "Epoch 14/30\n",
            "161/161 [==============================] - 1025s 6s/step - loss: 0.0040 - mape: 1.3307 - mse: 0.0040 - mae: 0.0509 - val_loss: 0.0148 - val_mape: 2.6308 - val_mse: 0.0148 - val_mae: 0.1009\n",
            "Epoch 15/30\n",
            "161/161 [==============================] - 1025s 6s/step - loss: 0.0052 - mape: 1.5033 - mse: 0.0052 - mae: 0.0575 - val_loss: 0.0570 - val_mape: 5.4625 - val_mse: 0.0570 - val_mae: 0.2114\n",
            "Epoch 16/30\n",
            "161/161 [==============================] - 1025s 6s/step - loss: 0.0067 - mape: 1.7214 - mse: 0.0067 - mae: 0.0659 - val_loss: 0.0147 - val_mape: 2.6237 - val_mse: 0.0147 - val_mae: 0.1005\n",
            "Epoch 17/30\n",
            "161/161 [==============================] - 1024s 6s/step - loss: 0.0035 - mape: 1.2472 - mse: 0.0035 - mae: 0.0478 - val_loss: 0.0154 - val_mape: 2.6779 - val_mse: 0.0154 - val_mae: 0.1016\n",
            "Epoch 18/30\n",
            "161/161 [==============================] - 1025s 6s/step - loss: 0.0027 - mape: 1.0819 - mse: 0.0027 - mae: 0.0414 - val_loss: 0.0374 - val_mape: 4.1674 - val_mse: 0.0374 - val_mae: 0.1617\n",
            "Epoch 19/30\n",
            "161/161 [==============================] - 1027s 6s/step - loss: 0.0031 - mape: 1.1630 - mse: 0.0031 - mae: 0.0445 - val_loss: 0.1942 - val_mape: 10.9758 - val_mse: 0.1942 - val_mae: 0.4225\n",
            "Epoch 20/30\n",
            "161/161 [==============================] - 1028s 6s/step - loss: 0.0026 - mape: 1.0544 - mse: 0.0026 - mae: 0.0404 - val_loss: 0.0154 - val_mape: 2.6563 - val_mse: 0.0154 - val_mae: 0.1021\n",
            "Epoch 21/30\n",
            "161/161 [==============================] - 1025s 6s/step - loss: 0.0031 - mape: 1.1607 - mse: 0.0031 - mae: 0.0444 - val_loss: 0.0145 - val_mape: 2.6100 - val_mse: 0.0145 - val_mae: 0.0997\n",
            "Epoch 22/30\n",
            "161/161 [==============================] - 1025s 6s/step - loss: 0.0035 - mape: 1.2443 - mse: 0.0035 - mae: 0.0476 - val_loss: 0.0423 - val_mape: 4.4804 - val_mse: 0.0423 - val_mae: 0.1737\n",
            "Epoch 23/30\n",
            "161/161 [==============================] - 1026s 6s/step - loss: 0.0035 - mape: 1.2253 - mse: 0.0035 - mae: 0.0468 - val_loss: 0.0155 - val_mape: 2.6934 - val_mse: 0.0155 - val_mae: 0.1027\n",
            "Epoch 24/30\n",
            "161/161 [==============================] - 1025s 6s/step - loss: 0.0030 - mape: 1.1524 - mse: 0.0030 - mae: 0.0441 - val_loss: 0.0178 - val_mape: 2.8345 - val_mse: 0.0178 - val_mae: 0.1093\n",
            "Epoch 25/30\n",
            "161/161 [==============================] - 1026s 6s/step - loss: 0.0020 - mape: 0.9259 - mse: 0.0020 - mae: 0.0354 - val_loss: 0.0207 - val_mape: 3.0424 - val_mse: 0.0207 - val_mae: 0.1177\n",
            "Epoch 26/30\n",
            "161/161 [==============================] - 1026s 6s/step - loss: 0.0020 - mape: 0.9376 - mse: 0.0020 - mae: 0.0359 - val_loss: 0.0162 - val_mape: 2.7075 - val_mse: 0.0162 - val_mae: 0.1042\n",
            "Epoch 27/30\n",
            "161/161 [==============================] - 1026s 6s/step - loss: 0.0052 - mape: 1.5209 - mse: 0.0052 - mae: 0.0582 - val_loss: 0.0166 - val_mape: 2.7227 - val_mse: 0.0166 - val_mae: 0.1050\n",
            "Epoch 28/30\n",
            "161/161 [==============================] - 1025s 6s/step - loss: 0.0032 - mape: 1.1846 - mse: 0.0032 - mae: 0.0454 - val_loss: 0.0161 - val_mape: 2.7057 - val_mse: 0.0161 - val_mae: 0.1042\n",
            "Epoch 29/30\n",
            "161/161 [==============================] - 1025s 6s/step - loss: 0.0020 - mape: 0.9390 - mse: 0.0020 - mae: 0.0360 - val_loss: 0.0323 - val_mape: 3.8218 - val_mse: 0.0323 - val_mae: 0.1482\n",
            "Epoch 30/30\n",
            "161/161 [==============================] - 1026s 6s/step - loss: 0.0030 - mape: 1.1389 - mse: 0.0030 - mae: 0.0436 - val_loss: 0.0483 - val_mape: 4.8653 - val_mse: 0.0483 - val_mae: 0.1885\n"
          ],
          "name": "stdout"
        },
        {
          "output_type": "execute_result",
          "data": {
            "text/plain": [
              "<tensorflow.python.keras.callbacks.History at 0x7ff3e6d73590>"
            ]
          },
          "metadata": {
            "tags": []
          },
          "execution_count": 11
        }
      ]
    },
    {
      "cell_type": "code",
      "metadata": {
        "colab": {
          "base_uri": "https://localhost:8080/"
        },
        "id": "ML0Svr8alvzi",
        "outputId": "4e60fdd3-778b-406b-9788-36b431766946"
      },
      "source": [
        "import keras\n",
        "print(keras.__version__)"
      ],
      "execution_count": null,
      "outputs": [
        {
          "output_type": "stream",
          "text": [
            "2.4.3\n"
          ],
          "name": "stdout"
        }
      ]
    },
    {
      "cell_type": "code",
      "metadata": {
        "id": "JVXrYb8mMAju"
      },
      "source": [
        "model.save_weights('t3_90.h5')"
      ],
      "execution_count": null,
      "outputs": []
    }
  ]
}